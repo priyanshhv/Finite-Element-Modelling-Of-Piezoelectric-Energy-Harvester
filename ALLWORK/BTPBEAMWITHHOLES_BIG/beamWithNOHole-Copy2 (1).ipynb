{
 "cells": [
  {
   "cell_type": "code",
   "execution_count": 1,
   "id": "37b97f57",
   "metadata": {
    "scrolled": true
   },
   "outputs": [],
   "source": [
    "using Gridap\n",
    "using  GridapGmsh\n",
    "using Gridap.Fields\n",
    "using Gridap.CellData\n",
    "using Gridap.TensorValues\n",
    "using Gridap.ReferenceFEs\n",
    "using Gridap.Geometry\n",
    "using Plots"
   ]
  },
  {
   "cell_type": "code",
   "execution_count": 2,
   "id": "52c6b055",
   "metadata": {},
   "outputs": [
    {
     "name": "stdout",
     "output_type": "stream",
     "text": [
      "Info    : Meshing 1D...\n",
      "Info    : [  0%] Meshing curve 1 (Line)\n",
      "Info    : [ 10%] Meshing curve 2 (Line)\n",
      "Info    : [ 20%] Meshing curve 3 (Line)\n",
      "Info    : [ 30%] Meshing curve 4 (Line)\n",
      "Info    : [ 40%] Meshing curve 5 (Circle)\n",
      "Info    : [ 50%] Meshing curve 6 (Circle)\n",
      "Info    : [ 50%] Meshing curve 7 (Circle)\n",
      "Info    : [ 60%] Meshing curve 8 (Circle)\n",
      "Info    : [ 70%] Meshing curve 9 (Circle)\n",
      "Info    : [ 80%] Meshing curve 10 (Circle)\n",
      "Info    : [ 90%] Meshing curve 11 (Circle)\n",
      "Info    : [100%] Meshing curve 12 (Circle)\n",
      "Info    : Done meshing 1D (Wall 0.00137019s, CPU 0s)\n",
      "Info    : Meshing 2D...\n",
      "Info    : Meshing surface 1 (Plane, Frontal-Delaunay)\n",
      "Info    : Done meshing 2D (Wall 0.00307798s, CPU 0s)\n",
      "Info    : 188 nodes 390 elements\n",
      "Info    : Writing 'PlateWithCircle.msh'...\n",
      "Info    : Done writing 'PlateWithCircle.msh'\n"
     ]
    },
    {
     "name": "stderr",
     "output_type": "stream",
     "text": [
      "Warning : Unknown entity of dimension 1 and tag 4 in physical group 1\n",
      "Warning : Unknown entity of dimension 1 and tag 1 in physical group 2\n",
      "Warning : Unknown entity of dimension 1 and tag 3 in physical group 3\n",
      "Warning : Unknown entity of dimension 1 and tag 2 in physical group 4\n",
      "Warning : Unknown entity of dimension 1 and tag 1 in physical group 5\n",
      "Warning : Unknown entity of dimension 1 and tag 3 in physical group 6\n",
      "Warning : Unknown entity of dimension 2 and tag 1 in physical group 7\n"
     ]
    }
   ],
   "source": [
    "TIME = 0.2\n",
    "\n",
    "using Gmsh: gmsh\n",
    "gmsh.initialize()\n",
    "gmsh.option.setNumber(\"General.Terminal\", 1)\n",
    "h = 0.009\n",
    "hf = 5e-1\n",
    "Lₚ = 0.233\n",
    "Hₚ = 0.00215\n",
    "\n",
    "spacing = 0.4\n",
    "\n",
    "dᵢ = 0.0024 #dia of the hole\n",
    "dₛ = (2 * Lₚ - 4 * dᵢ)/5.0\n",
    "\n",
    "p1 = gmsh.model.geo.addPoint(-Lₚ, -Hₚ, 0.0, h)\n",
    "p2 = gmsh.model.geo.addPoint(Lₚ, -Hₚ, 0.0, h)\n",
    "p3 = gmsh.model.geo.addPoint(Lₚ, Hₚ, 0.0, h)\n",
    "p4 = gmsh.model.geo.addPoint(-Lₚ, Hₚ, 0.0, h)\n",
    "\n",
    "p9 = gmsh.model.geo.addPoint(-Lₚ+dₛ, 0.0, 0.0, h)\n",
    "p10 = gmsh.model.geo.addPoint(-Lₚ+dₛ+0.5*dᵢ, 0.0, 0.0, h)\n",
    "p11 = gmsh.model.geo.addPoint(-Lₚ+dₛ+dᵢ, 0.0, 0.0, h)\n",
    "\n",
    "p12 = gmsh.model.geo.addPoint(-Lₚ+2*dₛ+dᵢ, 0.0, 0.0, h)\n",
    "p13 = gmsh.model.geo.addPoint(-Lₚ+2*dₛ+dᵢ+0.5*dᵢ, 0.0, 0.0, h)\n",
    "p14 = gmsh.model.geo.addPoint(-Lₚ+2*dₛ+dᵢ+dᵢ, 0.0, 0.0, h)\n",
    "\n",
    "p15 = gmsh.model.geo.addPoint(-Lₚ+3*dₛ+2*dᵢ, 0.0, 0.0, h)\n",
    "p16 = gmsh.model.geo.addPoint(-Lₚ+3*dₛ+2*dᵢ+0.5*dᵢ, 0.0, 0.0, h)\n",
    "p17 = gmsh.model.geo.addPoint(-Lₚ+3*dₛ+2*dᵢ+dᵢ, 0.0, 0.0, h)\n",
    "\n",
    "p18 = gmsh.model.geo.addPoint(-Lₚ+4*dₛ+3*dᵢ, 0.0, 0.0, h)\n",
    "p19 = gmsh.model.geo.addPoint(-Lₚ+4*dₛ+3*dᵢ+0.5*dᵢ, 0.0, 0.0, h)\n",
    "p20 = gmsh.model.geo.addPoint(-Lₚ+4*dₛ+3*dᵢ+dᵢ, 0.0, 0.0, h)\n",
    "\n",
    "\n",
    "\n",
    "l1 = gmsh.model.geo.addLine(p1, p2)\n",
    "l2 = gmsh.model.geo.addLine(p2, p3)\n",
    "l3 = gmsh.model.geo.addLine(p3, p4)\n",
    "l4 = gmsh.model.geo.addLine(p4, p1)\n",
    "\n",
    "c2 = gmsh.model.geo.addCircleArc(p9,p10,p11)\n",
    "c3 = gmsh.model.geo.addCircleArc(p11,p10,p9)\n",
    "c4 = gmsh.model.geo.addCircleArc(p12,p13,p14)\n",
    "c5 = gmsh.model.geo.addCircleArc(p14,p13,p12)\n",
    "c6 = gmsh.model.geo.addCircleArc(p15,p16,p17)\n",
    "c7 = gmsh.model.geo.addCircleArc(p17,p16,p15)\n",
    "c8 = gmsh.model.geo.addCircleArc(p18,p19,p20)\n",
    "c9 = gmsh.model.geo.addCircleArc(p20,p19,p18)\n",
    "\n",
    "c1 = gmsh.model.geo.addCurveLoop([l1,l2,l3,l4])\n",
    "cl2 = gmsh.model.geo.addCurveLoop([c2,c3])\n",
    "cl3 = gmsh.model.geo.addCurveLoop([c4,c5])\n",
    "cl4 = gmsh.model.geo.addCurveLoop([c6,c7])\n",
    "cl5 = gmsh.model.geo.addCurveLoop([c8,c9])\n",
    "\n",
    "ps1 = gmsh.model.geo.addPlaneSurface([c1,-cl2,-cl3,-cl4,-cl5])\n",
    "\n",
    "g4 = gmsh.model.addPhysicalGroup(1, [l4])\n",
    "g6 = gmsh.model.addPhysicalGroup(1, [l1])\n",
    "g7 = gmsh.model.addPhysicalGroup(1, [l3])\n",
    "g8 = gmsh.model.addPhysicalGroup(1, [l2])\n",
    "g9 = gmsh.model.addPhysicalGroup(1, [l1])\n",
    "g10 = gmsh.model.addPhysicalGroup(1, [l3])\n",
    "pg1 = gmsh.model.addPhysicalGroup(2, [ps1])\n",
    "\n",
    "gmsh.model.setPhysicalName(2, pg1, \"Domain\")\n",
    "gmsh.model.setPhysicalName(1, g4, \"DirichletLeft\")\n",
    "gmsh.model.setPhysicalName(1, g9, \"ElectricPotentialLeft\")\n",
    "gmsh.model.setPhysicalName(1, g10, \"ElectricPotentialRight\")\n",
    "gmsh.model.setPhysicalName(1, g8, \"LoadLine\")\n",
    "\n",
    "\n",
    "gmsh.model.geo.synchronize()\n",
    "gmsh.model.mesh.generate(2)\n",
    "gmsh.write(\"PlateWithCircle.msh\")\n",
    "gmsh.finalize()"
   ]
  },
  {
   "cell_type": "code",
   "execution_count": 3,
   "id": "b5335229",
   "metadata": {},
   "outputs": [
    {
     "name": "stdout",
     "output_type": "stream",
     "text": [
      "Info    : Reading 'PlateWithCircle.msh'...\n",
      "Info    : 29 entities\n",
      "Info    : 184 nodes\n",
      "Info    : 350 elements\n",
      "Info    : Done reading 'PlateWithCircle.msh'\n"
     ]
    },
    {
     "data": {
      "text/plain": [
       "3-element Vector{Vector{String}}:\n",
       " [\"PlateWithCircle_0.vtu\"]\n",
       " [\"PlateWithCircle_1.vtu\"]\n",
       " [\"PlateWithCircle_2.vtu\"]"
      ]
     },
     "execution_count": 3,
     "metadata": {},
     "output_type": "execute_result"
    }
   ],
   "source": [
    "model =  GmshDiscreteModel(\"PlateWithCircle.msh\")\n",
    "writevtk(model,\"PlateWithCircle\")"
   ]
  },
  {
   "cell_type": "code",
   "execution_count": 4,
   "id": "664b3d56",
   "metadata": {},
   "outputs": [
    {
     "data": {
      "text/plain": [
       "1"
      ]
     },
     "execution_count": 4,
     "metadata": {},
     "output_type": "execute_result"
    }
   ],
   "source": [
    "order = 1"
   ]
  },
  {
   "cell_type": "code",
   "execution_count": 5,
   "id": "2a5a116e",
   "metadata": {},
   "outputs": [
    {
     "data": {
      "text/plain": [
       "SingleFieldFEFunction():\n",
       " num_cells: 244\n",
       " DomainStyle: ReferenceDomain()\n",
       " Triangulation: BodyFittedTriangulation()\n",
       " Triangulation id: 8025166743519721707"
      ]
     },
     "execution_count": 5,
     "metadata": {},
     "output_type": "execute_result"
    }
   ],
   "source": [
    "#for elasticity\n",
    "reffe_Disp = ReferenceFE(lagrangian,VectorValue{2,Float64},order)\n",
    "        V0_Disp = TestFESpace(model,reffe_Disp;\n",
    "          conformity=:H1,\n",
    "          dirichlet_tags=[\"DirichletLeft\"],\n",
    "          dirichlet_masks=[(true,true)])\n",
    "\n",
    "# this line i not understood\n",
    "uh = zero(V0_Disp)"
   ]
  },
  {
   "cell_type": "code",
   "execution_count": 6,
   "id": "13f00cc9",
   "metadata": {},
   "outputs": [
    {
     "data": {
      "text/plain": [
       "UnconstrainedFESpace()"
      ]
     },
     "execution_count": 6,
     "metadata": {},
     "output_type": "execute_result"
    }
   ],
   "source": [
    "#for piezoelectricity\n",
    "reffe_ElecPot = ReferenceFE(lagrangian,Float64,order)\n",
    "V0_ElecPot  = TestFESpace(model,reffe_ElecPot;\n",
    "  conformity=:H1,\n",
    "          dirichlet_tags=[\"ElectricPotentialLeft\"],\n",
    "          dirichlet_masks=[true])\n",
    "# V0_ElecPot  = TestFESpace(model,reffe_ElecPot;\n",
    "#   conformity=:H1)"
   ]
  },
  {
   "cell_type": "code",
   "execution_count": 7,
   "id": "b0e5ac38",
   "metadata": {},
   "outputs": [
    {
     "data": {
      "text/plain": [
       "MultiFieldFESpace()"
      ]
     },
     "execution_count": 7,
     "metadata": {},
     "output_type": "execute_result"
    }
   ],
   "source": [
    "#now V0 is the multi field test FE space\n",
    "V0 = MultiFieldFESpace([V0_Disp,V0_ElecPot])"
   ]
  },
  {
   "cell_type": "code",
   "execution_count": 8,
   "id": "dd07c8fd",
   "metadata": {},
   "outputs": [
    {
     "data": {
      "text/plain": [
       "0.0"
      ]
     },
     "execution_count": 8,
     "metadata": {},
     "output_type": "execute_result"
    }
   ],
   "source": [
    "# vApp = 0.005\n",
    "ElecF = 0.0\n",
    "phiApp = (ElecF/10)*(1)*1e3"
   ]
  },
  {
   "cell_type": "code",
   "execution_count": 9,
   "id": "966b5ad5",
   "metadata": {},
   "outputs": [
    {
     "data": {
      "text/plain": [
       "GenericMeasure()"
      ]
     },
     "execution_count": 9,
     "metadata": {},
     "output_type": "execute_result"
    }
   ],
   "source": [
    "degree = 2*order\n",
    "Ω = Triangulation(model)\n",
    "dΩ = Measure(Ω,degree)"
   ]
  },
  {
   "cell_type": "code",
   "execution_count": 10,
   "id": "c3c46bc9",
   "metadata": {},
   "outputs": [
    {
     "data": {
      "text/plain": [
       "TensorValue{2, 2, Float64, 4}(6.0e-9, 0.0, 0.0, 5.47e-9)"
      ]
     },
     "execution_count": 10,
     "metadata": {},
     "output_type": "execute_result"
    }
   ],
   "source": [
    " C₁₁₁₁t = 62.1e9\n",
    " C₁₁₂₂t = 74.3e3\n",
    " C₃₃₃₃t = 48.3e9\n",
    " d₁₁t = -6.98e-3\n",
    " d₂₁t = 13.84e-3\n",
    " d₂₂t = 13.44e-3\n",
    " d₂₃t = 13.04e-3\n",
    "\n",
    " a₁₁t = 6e-9\n",
    " a₂₂t = 5.47e-9\n",
    "\n",
    "function ElasFourthOrderConstTensor(C₁₁,C₁₂,C₃₃)\n",
    "      C1111 = C₁₁\n",
    "      C1122 = C₁₂\n",
    "      C1112 = 0.0\n",
    "      C2222 = C₁₁\n",
    "      C2212 = 0.0\n",
    "      C1212 = C₃₃    \n",
    "      C_ten = SymFourthOrderTensorValue(C1111,C1112,C1122,C1112,C1212,C2212,C1122,C2212,C2222)\n",
    "    return  C_ten\n",
    "end\n",
    "const C_mat = ElasFourthOrderConstTensor(C₁₁₁₁t,C₁₁₂₂t,C₃₃₃₃t)\n",
    "\n",
    "function PiezoThirdOrderConstTensor(d₁₁,d₂₁,d₂₂,d₂₃)\n",
    "    # 1 for Plane Stress and 2 Plane Strain Condition \n",
    "      e111 = d₁₁\n",
    "      e112 = d₁₁\n",
    "      e121 = d₂₁\n",
    "      e122 = d₂₂\n",
    "      e211 = d₁₁\n",
    "      e212 = 0.0\n",
    "      e221 = d₂₂\n",
    "      e222 = d₂₃   \n",
    "    vals = zeros(2,2,2);\n",
    "    vals[1,:,:] .= [e111 e112\n",
    "                    e121 e122]\n",
    "    vals[2,:,:] .= [e211 e212\n",
    "                    e221 e222]\n",
    "    e_ten = ThirdOrderTensorValue(vals ...)\n",
    "    return  e_ten\n",
    "end\n",
    "\n",
    "const D_mat = PiezoThirdOrderConstTensor(d₁₁t,d₂₁t,d₂₂t,d₂₃t)\n",
    "\n",
    "const A_mat = TensorValue(a₁₁t,0.0,0.0, a₂₂t)"
   ]
  },
  {
   "cell_type": "code",
   "execution_count": 11,
   "id": "d6b74363",
   "metadata": {},
   "outputs": [
    {
     "data": {
      "text/plain": [
       "SymFourthOrderTensorValue{2, Float64, 9}(6.21e10, 0.0, 74300.0, 0.0, 4.83e10, 0.0, 74300.0, 0.0, 6.21e10)"
      ]
     },
     "execution_count": 11,
     "metadata": {},
     "output_type": "execute_result"
    }
   ],
   "source": [
    "C_mat"
   ]
  },
  {
   "cell_type": "code",
   "execution_count": 12,
   "id": "1444b912",
   "metadata": {},
   "outputs": [
    {
     "data": {
      "text/plain": [
       "σ_piezo (generic function with 1 method)"
      ]
     },
     "execution_count": 12,
     "metadata": {},
     "output_type": "execute_result"
    }
   ],
   "source": [
    "#defining stress strain and potential relation\n",
    "σ_elas(ε) = C_mat ⊙ ε\n",
    "# why only ∇  is written\n",
    "σ_piezo(∇) = ∇ ⋅ D_mat"
   ]
  },
  {
   "cell_type": "code",
   "execution_count": 13,
   "id": "ae2f33fd",
   "metadata": {},
   "outputs": [
    {
     "data": {
      "text/plain": [
       "D_elas (generic function with 1 method)"
      ]
     },
     "execution_count": 13,
     "metadata": {},
     "output_type": "execute_result"
    }
   ],
   "source": [
    "#defining electric displacement\n",
    "D_piezo(∇) = A_mat ⋅ ∇\n",
    "\n",
    "D_elas(ε) = D_mat ⋅² ε"
   ]
  },
  {
   "cell_type": "code",
   "execution_count": 14,
   "id": "d22f28b5",
   "metadata": {},
   "outputs": [
    {
     "data": {
      "text/plain": [
       "f (generic function with 1 method)"
      ]
     },
     "execution_count": 14,
     "metadata": {},
     "output_type": "execute_result"
    }
   ],
   "source": [
    "f(t) = VectorValue(0.0,0.6*sin(20*π*t) )"
   ]
  },
  {
   "cell_type": "code",
   "execution_count": 15,
   "id": "27459ad6",
   "metadata": {},
   "outputs": [
    {
     "data": {
      "text/plain": [
       "7800"
      ]
     },
     "execution_count": 15,
     "metadata": {},
     "output_type": "execute_result"
    }
   ],
   "source": [
    "# Choose Newmark-beta parameters (ensure 0.5 <= γ <= 1)\n",
    "const γ = 0.5\n",
    "const β = 0.25  # Newmark-beta parameter\n",
    "\n",
    "\n",
    "\n",
    "# Calculate Newmark-beta coefficients\n",
    "dt = TIME/60\n",
    "coeff_a_u = 1/(β*dt*dt)\n",
    "coeff_a_v = 1/(β*dt)\n",
    "coeff_a_a = ((2*β)-1)/(2*β)\n",
    "coeff_v_u = γ/(β*dt)\n",
    "coeff_v_v = 1-(γ/β)\n",
    "coeff_v_a = (1-(γ/(2*β)))*dt\n",
    "\n",
    "# Set initial conditions\n",
    "uₙ = zero(V0_Disp)\n",
    "vₙ = zero(V0_Disp)\n",
    "aₙ = zero(V0_Disp) \n",
    "uₙ₊₁ = zero(V0_Disp)\n",
    "vₙ₊₁ = zero(V0_Disp)\n",
    "aₙ₊₁ = zero(V0_Disp)\n",
    "# ... (set initial displacement and velocity based on your problem)\n",
    "\n",
    "ρ = 7800"
   ]
  },
  {
   "cell_type": "code",
   "execution_count": 16,
   "id": "7635327c",
   "metadata": {},
   "outputs": [
    {
     "data": {
      "text/plain": [
       "GenericMeasure()"
      ]
     },
     "execution_count": 16,
     "metadata": {},
     "output_type": "execute_result"
    }
   ],
   "source": [
    "labels = get_face_labeling(model)\n",
    "LoadTagId1 = get_tag_from_name(labels,\"LoadLine\")\n",
    "Γ_Load1 = BoundaryTriangulation(model,tags = LoadTagId1)\n",
    "dΓ_Load1 = Measure(Γ_Load1,degree)"
   ]
  },
  {
   "cell_type": "code",
   "execution_count": 17,
   "id": "09484e27",
   "metadata": {},
   "outputs": [
    {
     "data": {
      "text/plain": [
       "projectvol (generic function with 1 method)"
      ]
     },
     "execution_count": 17,
     "metadata": {},
     "output_type": "execute_result"
    }
   ],
   "source": [
    "function projectvec(q,model,dΩ,order)\n",
    "  #for elasticity\n",
    "  reffe_Dispp = ReferenceFE(lagrangian,VectorValue{2,Float64},order)\n",
    "  V0 = TestFESpace(model,reffe_Disp;\n",
    "          conformity=:H1);\n",
    " \n",
    "  a(u,v) = ∫( u⋅v )*dΩ\n",
    "  l(v) = ∫( v⋅q )*dΩ\n",
    "  op = AffineFEOperator(a,l,V0,V0)\n",
    "  qh = solve(op)\n",
    "  qh\n",
    "end\n",
    "\n",
    "function projectvol(q,model,dΩ,order)\n",
    " \n",
    "  #for piezoelectricity\n",
    "  reffe_ElecPott = ReferenceFE(lagrangian,Float64,order)\n",
    "  V0  = TestFESpace(model,reffe_ElecPot;\n",
    "  conformity=:H1);\n",
    "    \n",
    "   a(u,v) = ∫( u⋅v )*dΩ\n",
    "  l(v) = ∫( v⋅q )*dΩ\n",
    "  op = AffineFEOperator(a,l,V0,V0)\n",
    "  qh = solve(op)\n",
    "  qh\n",
    "end\n",
    "\n"
   ]
  },
  {
   "cell_type": "code",
   "execution_count": 18,
   "id": "2f80b625",
   "metadata": {},
   "outputs": [
    {
     "data": {
      "text/plain": [
       "new_VAState (generic function with 1 method)"
      ]
     },
     "execution_count": 18,
     "metadata": {},
     "output_type": "execute_result"
    }
   ],
   "source": [
    "function new_VAState(a_in, ah_in)\n",
    "    a_out = ah_in\n",
    "    true, a_out\n",
    "end"
   ]
  },
  {
   "cell_type": "code",
   "execution_count": 19,
   "id": "05545bb5",
   "metadata": {},
   "outputs": [],
   "source": [
    "# evaluate(ϕh,VectorValue(0.1,0.1))"
   ]
  },
  {
   "cell_type": "code",
   "execution_count": 20,
   "id": "1155d3b2",
   "metadata": {},
   "outputs": [
    {
     "data": {
      "text/plain": [
       "dispTimeStamp (generic function with 1 method)"
      ]
     },
     "execution_count": 20,
     "metadata": {},
     "output_type": "execute_result"
    }
   ],
   "source": [
    "function dispTimeStamp(u_in, v_in, a_in, t)\n",
    "    uApp1(x) = VectorValue(0.0, 0.0)\n",
    "    U_Disp = TrialFESpace(V0_Disp, [uApp1])\n",
    "    U_ElecPot = TrialFESpace(V0_ElecPot)\n",
    "    \n",
    "    U = MultiFieldFESpace([U_Disp, U_ElecPot])\n",
    "    \n",
    "    a((u, ϕ), (v, ψ)) = ∫(((ε(v) ⊙ (σ_elas∘(ε(u))))) + ((∇(v) ⊙ (σ_piezo ∘ (∇(ϕ))))) - (∇(ψ) ⋅ (D_piezo ∘ (∇(ϕ)))) + (∇(ψ) ⋅ (D_elas∘(ε(u)))) + (ρ * coeff_a_u * (v ⋅ u))) * dΩ\n",
    "    b((v, ψ)) = ∫(v ⋅ f(t)) * dΓ_Load1 + ∫((ρ * coeff_a_u * (v ⋅ u_in))  + (ρ * coeff_a_v * (v ⋅ v_in))  - (ρ * coeff_a_a * (v ⋅ a_in))) * dΩ \n",
    "\n",
    "    op = AffineFEOperator(a, b, U, V0)\n",
    "    uhPhi = Gridap.solve(op)\n",
    "    uh, ϕh = uhPhi\n",
    "   \n",
    "    return uh, ϕh\n",
    "end \n"
   ]
  },
  {
   "cell_type": "code",
   "execution_count": 21,
   "id": "952c9eff",
   "metadata": {},
   "outputs": [
    {
     "data": {
      "text/plain": [
       "GenericMeasure()"
      ]
     },
     "execution_count": 21,
     "metadata": {},
     "output_type": "execute_result"
    }
   ],
   "source": [
    "PotentialLineTagId1 = get_tag_from_name(labels,\"ElectricPotentialLeft\")\n",
    "Γ_Potential1 = BoundaryTriangulation(model,tags = PotentialLineTagId1)\n",
    "dΓ_Potential1 = Measure(Γ_Potential1,degree)\n",
    "\n",
    "PotentialLineTagId2 = get_tag_from_name(labels,\"ElectricPotentialRight\")\n",
    "Γ_Potential2 = BoundaryTriangulation(model,tags = PotentialLineTagId2)\n",
    "dΓ_Potential2 = Measure(Γ_Potential2,degree)"
   ]
  },
  {
   "cell_type": "code",
   "execution_count": null,
   "id": "e69274f2",
   "metadata": {},
   "outputs": [],
   "source": [
    "# Initialize cell states for acceleration and velocity\n",
    "aₙC = CellState(VectorValue(0.0, 0.0), dΩ)\n",
    "vₙC = CellState(VectorValue(0.0, 0.0), dΩ)\n",
    "  \n",
    "time_values = []\n",
    "force_values = []\n",
    "ϕₘ = []\n",
    "\n",
    "for i in 0:60 # adjust num_steps for desired duration\n",
    "    println(\"iteration\", i)\n",
    "    \n",
    "    time = dt * i\n",
    "    \n",
    "    #pushing time x axis values \n",
    "    push!(time_values,time)\n",
    "    push!(force_values,f(time)[2])\n",
    "    \n",
    "    # Project cell states to FE spaces\n",
    "    aₙ = projectvec(aₙC, model, dΩ, order)\n",
    "    vₙ = projectvec(vₙC, model, dΩ, order)\n",
    "\n",
    "    # Compute displacement field\n",
    "    uₙ₊₁,ϕₙ₊₁ = dispTimeStamp(uₙ, vₙ, aₙ, time)\n",
    "    #println(\"potentialRightAtMidLine \", evaluate(ϕₙ₊₁,VectorValue(Lₚ,Hₚ))- evaluate(ϕₙ₊₁,VectorValue(-Lₚ,Hₚ)))\n",
    "    # Output results at regular intervals\n",
    "    if(i == 20 || i == 30 || i==50)\n",
    "    writevtk(Ω,\"transient_piezoelectric_solution_$i+1\"*\".vtu\",cellfields=[\"uh\"=>uₙ₊₁,\"stress\"=>σ_elas∘(ε(uₙ₊₁)), \"epsi\"=>ε(uₙ₊₁),\"phi\"=>ϕₙ₊₁,])\n",
    "    end\n",
    "    \n",
    "    poten2 = sum(∫(ϕₙ₊₁) * dΓ_Potential2)\n",
    "    poten1 = sum(∫(ϕₙ₊₁) * dΓ_Potential1)\n",
    "#     push!(ϕₘ,evaluate(ϕₙ₊₁,VectorValue(Lₚ,Hₚ))- evaluate(ϕₙ₊₁,VectorValue(-Lₚ,Hₚ)))\n",
    "    push!(ϕₘ,(poten2 - poten1))\n",
    "\n",
    "    # Newmark-beta update equations\n",
    "    vₙ₊₁ = coeff_v_u*(uₙ₊₁-uₙ) + coeff_v_v*vₙ + coeff_v_a*aₙ\n",
    "    aₙ₊₁ = coeff_a_u*(uₙ₊₁-uₙ) - coeff_a_v*vₙ + coeff_a_a*aₙ\n",
    "            \n",
    "    # Update cell states\n",
    "    update_state!(new_VAState, vₙC, vₙ₊₁)\n",
    "    update_state!(new_VAState, aₙC, aₙ₊₁)\n",
    "\n",
    "    # Update displacement field\n",
    "    uₙ = uₙ₊₁\n",
    "\n",
    "    end\n",
    "       \n",
    "    "
   ]
  },
  {
   "cell_type": "code",
   "execution_count": null,
   "id": "b3285389",
   "metadata": {},
   "outputs": [],
   "source": [
    "using DelimitedFiles\n",
    "using CSV\n",
    "\n",
    "open(\"OFFSET_NO_BHOLLE_Plot.csv\",\"w\") do io\n",
    "    writedlm(io,[time_values ϕₘ])\n",
    "end\n",
    "\n",
    "open(\"OFFSET_NO_HOLLE_Force.csv\",\"w\") do io\n",
    "    writedlm(io,[time_values force_values])\n",
    "end\n",
    "\n",
    "# scatter(time_values, ϕₘ, label=\"Data Points\", legend=:topright,\n",
    "#         xlabel=\"X\", ylabel=\"Y\", title=\"Discrete Data Plot\")\n",
    "\n",
    "# savefig(\"OFFSET_WIHOUT_HOLE_Plot.png\")"
   ]
  }
 ],
 "metadata": {
  "kernelspec": {
   "display_name": "Julia 1.8.1",
   "language": "julia",
   "name": "julia-1.8"
  },
  "language_info": {
   "file_extension": ".jl",
   "mimetype": "application/julia",
   "name": "julia",
   "version": "1.8.1"
  }
 },
 "nbformat": 4,
 "nbformat_minor": 5
}
